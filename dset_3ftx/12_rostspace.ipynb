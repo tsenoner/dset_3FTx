{
 "cells": [
  {
   "cell_type": "code",
   "execution_count": 7,
   "metadata": {},
   "outputs": [],
   "source": [
    "import os\n",
    "from pathlib import Path\n",
    "\n",
    "import pandas as pd\n",
    "\n",
    "# out_dir = Path(\"../out\")\n",
    "# rostspace_dir = out_dir / \"rostspace\"\n",
    "\n",
    "# out_dir = \"../out/rostspace\"\n",
    "# csv_file = \"../data/online_version/submission_data.csv\"\n",
    "# hdf_file = \"../data/protspace_after_ivan_manual_bmul/3FTx_prott5.h5\"\n",
    "# col = \"group\"\n",
    "# df = pd.read_csv(csv_file)\n",
    "# df.head(2)"
   ]
  },
  {
   "cell_type": "code",
   "execution_count": 15,
   "metadata": {},
   "outputs": [
    {
     "name": "stdout",
     "output_type": "stream",
     "text": [
      "# of rows doesn't match data!\n",
      "Start recalculation!\n"
     ]
    },
    {
     "name": "stderr",
     "output_type": "stream",
     "text": [
      "OMP: Info #276: omp_set_nested routine deprecated, please use omp_set_max_active_levels instead.\n"
     ]
    },
    {
     "data": {
      "text/plain": [
       "0"
      ]
     },
     "execution_count": 15,
     "metadata": {},
     "output_type": "execute_result"
    }
   ],
   "source": [
    "# --- 3D + 2D plot for group, major_group, and membran_prediction\n",
    "\n",
    "out_dir = \"../out/rostspace\"\n",
    "csv_file = \"../data/online_version/submission_data.csv\"\n",
    "hdf_file = \"../data/protspace_after_ivan_manual_bmul/3FTx_prott5.h5\"\n",
    "\n",
    "\n",
    "os.system(f\"rostspace -o {out_dir} --hdf {hdf_file} --csv {csv_file} --html_cols group\")\n",
    "os.system(f\"rostspace -o {out_dir} --hdf {hdf_file} --csv {csv_file} --html_cols group major_group membrane_prediction --two_d\")"
   ]
  },
  {
   "cell_type": "code",
   "execution_count": 11,
   "metadata": {},
   "outputs": [
    {
     "name": "stderr",
     "output_type": "stream",
     "text": [
      "OMP: Info #276: omp_set_nested routine deprecated, please use omp_set_max_active_levels instead.\n"
     ]
    },
    {
     "data": {
      "text/plain": [
       "0"
      ]
     },
     "execution_count": 11,
     "metadata": {},
     "output_type": "execute_result"
    }
   ],
   "source": [
    "# --- TOLIP ---\n",
    "out_dir = \"../out/rostspace\"\n",
    "csv_file = \"../data/tolip/tolip_merged.csv\"\n",
    "hdf_file = \"../data/tolip/tolip_merged.h5\"\n",
    "\n",
    "os.system(f\"rostspace -o {out_dir} --hdf {hdf_file} --csv {csv_file} --html_cols group\")"
   ]
  },
  {
   "cell_type": "code",
   "execution_count": 12,
   "metadata": {},
   "outputs": [
    {
     "name": "stdout",
     "output_type": "stream",
     "text": [
      "rostspace -o ../out/rostspace --hdf ../data/tolip/tolip_merged.h5 --csv ../data/online_version/submission_data.csv --html_cols group\n"
     ]
    },
    {
     "data": {
      "text/plain": [
       "0"
      ]
     },
     "execution_count": 12,
     "metadata": {},
     "output_type": "execute_result"
    }
   ],
   "source": [
    "os.system(f\"echo rostspace -o {out_dir} --hdf {hdf_file} --csv {csv_file} --html_cols group\")"
   ]
  }
 ],
 "metadata": {
  "kernelspec": {
   "display_name": "rostspace",
   "language": "python",
   "name": "python3"
  },
  "language_info": {
   "codemirror_mode": {
    "name": "ipython",
    "version": 3
   },
   "file_extension": ".py",
   "mimetype": "text/x-python",
   "name": "python",
   "nbconvert_exporter": "python",
   "pygments_lexer": "ipython3",
   "version": "3.10.9"
  },
  "orig_nbformat": 4
 },
 "nbformat": 4,
 "nbformat_minor": 2
}
