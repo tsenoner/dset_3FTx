{
 "cells": [
  {
   "cell_type": "code",
   "execution_count": 1,
   "metadata": {},
   "outputs": [
    {
     "data": {
      "text/html": [
       "\n",
       "                <script type=\"application/javascript\" id=\"jupyter_black\">\n",
       "                (function() {\n",
       "                    if (window.IPython === undefined) {\n",
       "                        return\n",
       "                    }\n",
       "                    var msg = \"WARNING: it looks like you might have loaded \" +\n",
       "                        \"jupyter_black in a non-lab notebook with \" +\n",
       "                        \"`is_lab=True`. Please double check, and if \" +\n",
       "                        \"loading with `%load_ext` please review the README!\"\n",
       "                    console.log(msg)\n",
       "                    alert(msg)\n",
       "                })()\n",
       "                </script>\n",
       "                "
      ],
      "text/plain": [
       "<IPython.core.display.HTML object>"
      ]
     },
     "metadata": {},
     "output_type": "display_data"
    }
   ],
   "source": [
    "import jupyter_black\n",
    "\n",
    "jupyter_black.load()"
   ]
  },
  {
   "cell_type": "code",
   "execution_count": 2,
   "metadata": {},
   "outputs": [],
   "source": [
    "from pathlib import Path\n",
    "import pandas as pd\n",
    "\n",
    "fasta_path = Path(\"../data/3FTx/3FTx_mature.fasta\")\n",
    "csv_path = Path(\"../data/protspace_after_dan/3FTx.csv\")\n",
    "phylo_tree_base = Path(\"../data/phylo_tree\")\n",
    "iqtree_in = phylo_tree_base / \"iqtree/3FTx_resubmission_DSD_v2.fasta.contree\"\n",
    "iqtree_out = phylo_tree_base / \"iqtree/iqtree_rename.nexus\"\n",
    "dali_in = phylo_tree_base / \"dali/DALI_unrooted.newick\"\n",
    "dali_out = dali_in.with_name(\"DALI_rename.newick\")\n",
    "itol_out = phylo_tree_base / \"iTOL.txt\""
   ]
  },
  {
   "attachments": {},
   "cell_type": "markdown",
   "metadata": {},
   "source": [
    "## Rename DALI file"
   ]
  },
  {
   "cell_type": "code",
   "execution_count": 3,
   "metadata": {},
   "outputs": [],
   "source": [
    "import re\n",
    "\n",
    "with open(dali_in, \"r\") as handle:\n",
    "    data = handle.readline()\n",
    "data = re.sub(r\"[A-Z]{5} \", \"\", data)\n",
    "with open(dali_out, \"w\") as handle:\n",
    "    handle.write(data)"
   ]
  },
  {
   "attachments": {},
   "cell_type": "markdown",
   "metadata": {},
   "source": [
    "## Rename iqtree file"
   ]
  },
  {
   "cell_type": "code",
   "execution_count": 4,
   "metadata": {},
   "outputs": [],
   "source": [
    "import re\n",
    "\n",
    "with open(iqtree_in, \"r\") as handle:\n",
    "    data = handle.readline()\n",
    "data = re.sub(\n",
    "    r\"(None|NCBI|TR|SP)_([A-Za-z0-9_\\-\\.]+)_([A-Z][a-z]+_[a-z]+)\", r\"\\1|\\2|\\3\", data\n",
    ")\n",
    "data\n",
    "with open(iqtree_out, \"w\") as handle:\n",
    "    handle.write(data)"
   ]
  },
  {
   "attachments": {},
   "cell_type": "markdown",
   "metadata": {},
   "source": [
    "## Create iTOL coloring file"
   ]
  },
  {
   "cell_type": "code",
   "execution_count": 8,
   "metadata": {},
   "outputs": [
    {
     "data": {
      "text/plain": [
       "{'frog Ly6': '#00A79D',\n",
       " 'GPIHBP1': '#B1E0E1',\n",
       " 'Ly6 unique': '#E6D6D6',\n",
       " 'Ly6D': '#E083B6',\n",
       " 'Ly6E': '#ED2024',\n",
       " 'Ly6H': '#9A4C9D',\n",
       " 'Ly6K': '#ECB9B9',\n",
       " 'Ly6L': '#902323',\n",
       " 'LYNX1': '#D6B9D9',\n",
       " 'LYPD2': '#3D5BA9',\n",
       " 'PSCA': '#968AC2',\n",
       " 'Reptilian Ly6 group 6': '#F15A29',\n",
       " 'Reptilian Ly6 group 7': '#F47745',\n",
       " 'Non-human mammalian Ly6': '#6B2C8C',\n",
       " 'Reptilian Ly6 group 1': '#BD522A',\n",
       " 'Reptilian Ly6 group 1-2': '#BD522A',\n",
       " 'Reptilian Ly6 group 2': '#F8AC4F',\n",
       " 'Reptilian Ly6 group 3': '#F7921E',\n",
       " 'Reptilian Ly6 group 5': '#FFC919',\n",
       " 'SLURP1': '#488BCA',\n",
       " 'SLURP2': '#E83895',\n",
       " 'Reptilian Ly6 group 4': '#F7EC13',\n",
       " 'Non-standard': '#788E42',\n",
       " 'Plesiotypic': '#67BD45',\n",
       " 'Short-chain': '#63CBE5',\n",
       " 'Long-chain': '#24638F'}"
      ]
     },
     "execution_count": 8,
     "metadata": {},
     "output_type": "execute_result"
    }
   ],
   "source": [
    "color_txt = \"\"\"00A79D frog Ly6\n",
    "B1E0E1 GPIHBP1\n",
    "E6D6D6 Ly6 unique\n",
    "E083B6 Ly6D\n",
    "ED2024 Ly6E\n",
    "9A4C9D Ly6H\n",
    "ECB9B9 Ly6K\n",
    "902323 Ly6L\n",
    "D6B9D9 LYNX1\n",
    "3D5BA9 LYPD2\n",
    "968AC2 PSCA\n",
    "F15A29 Reptilian Ly6 group 6\n",
    "F47745 Reptilian Ly6 group 7\n",
    "6B2C8C Non-human mammalian Ly6\n",
    "BD522A Reptilian Ly6 group 1\n",
    "BD522A Reptilian Ly6 group 1-2\n",
    "F8AC4F Reptilian Ly6 group 2\n",
    "F7921E Reptilian Ly6 group 3\n",
    "FFC919 Reptilian Ly6 group 5\n",
    "488BCA SLURP1\n",
    "E83895 SLURP2\n",
    "F7EC13 Reptilian Ly6 group 4\n",
    "788E42 Non-standard\n",
    "67BD45 Plesiotypic\n",
    "63CBE5 Short-chain\n",
    "24638F Long-chain\"\"\"\n",
    "\n",
    "color_group = dict()\n",
    "for line in color_txt.split(\"\\n\"):\n",
    "    color, groupname = line.split(\" \", maxsplit=1)\n",
    "    color_group[groupname] = f\"#{color}\"\n",
    "color_group"
   ]
  },
  {
   "cell_type": "code",
   "execution_count": 7,
   "metadata": {},
   "outputs": [
    {
     "data": {
      "text/plain": [
       "{'Ly-6': '#00FF00',\n",
       " 'pre-3FTx': '#FF00FF',\n",
       " 'Plesiotypic': '#007FFF',\n",
       " 'Non-standard': '#FF7F00',\n",
       " 'Short-chain': '#7FBF7F',\n",
       " 'Long-chain': '#5E06A4',\n",
       " nan: '#E90138'}"
      ]
     },
     "execution_count": 7,
     "metadata": {},
     "output_type": "execute_result"
    }
   ],
   "source": [
    "color_group"
   ]
  },
  {
   "cell_type": "code",
   "execution_count": 6,
   "metadata": {},
   "outputs": [],
   "source": [
    "from distinctipy import distinctipy\n",
    "\n",
    "id_name = \"identifier\"\n",
    "group_name = \"cysteine_group\"\n",
    "\n",
    "df = pd.read_csv(csv_path)\n",
    "\n",
    "# number of colours to generate\n",
    "N = len(df[group_name].unique())\n",
    "seed = 42\n",
    "\n",
    "colorblind_type = \"Normal\"\n",
    "colors = distinctipy.get_colors(N, colorblind_type=colorblind_type, rng=seed)\n",
    "colors = [\"#\" + \"\".join([f\"{int(c * 255):02X}\" for c in color]) for color in colors]\n",
    "color_group = {g: c for g, c in zip(df[group_name].unique(), colors)}\n",
    "\n",
    "with open(itol_out, \"w\") as handle:\n",
    "    handle.write(\"TREE_COLORS\\n\")\n",
    "    handle.write(\"SEPARATOR TAB\\n\")\n",
    "    handle.write(\"DATA\\n\")\n",
    "    for group in df[group_name].unique():\n",
    "        for idx, row in df[df[group_name] == group].iterrows():\n",
    "            uid = (\n",
    "                row[id_name]\n",
    "                # .replace(\":\", \"_\")\n",
    "                # .replace(\"ID=\", \"ID\")\n",
    "                # .replace(\"=\", \"_\")\n",
    "            )\n",
    "            # group = row[\"group\"]\n",
    "            color = color_group[group]\n",
    "            handle.write(f\"{uid}\\trange\\t{color}\\t{group}\\n\")"
   ]
  }
 ],
 "metadata": {
  "kernelspec": {
   "display_name": "rostspace",
   "language": "python",
   "name": "python3"
  },
  "language_info": {
   "codemirror_mode": {
    "name": "ipython",
    "version": 3
   },
   "file_extension": ".py",
   "mimetype": "text/x-python",
   "name": "python",
   "nbconvert_exporter": "python",
   "pygments_lexer": "ipython3",
   "version": "3.9.13"
  },
  "orig_nbformat": 4
 },
 "nbformat": 4,
 "nbformat_minor": 2
}
