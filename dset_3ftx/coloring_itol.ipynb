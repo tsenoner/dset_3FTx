{
 "cells": [
  {
   "cell_type": "code",
   "execution_count": 7,
   "metadata": {},
   "outputs": [],
   "source": [
    "from pathlib import Path\n",
    "import pandas as pd\n",
    "\n",
    "fasta_path = Path(\"../data/3FTx/3FTx_mature.fasta\")\n",
    "csv_path = Path(\"../data/protspace_after_dan/3FTx.csv\")\n",
    "iqtree_in = Path(\"../data/phylo_tree/iqtree/3FTx_resubmission_DSD_v2.fasta.contree\")\n",
    "iqtree_out = Path(\"../data/phylo_tree/iqtree/iqtree_rename.nexus\")\n",
    "dali_in = Path(\"../data/phylo_tree/dali/DALI_unrooted.newick\")\n",
    "dali_out = dali_in.with_name(\"DALI_rename.newick\")\n",
    "itol_out = dali_in.parents[2] / \"iTOL.txt\""
   ]
  },
  {
   "attachments": {},
   "cell_type": "markdown",
   "metadata": {},
   "source": [
    "## Rename DALI file"
   ]
  },
  {
   "cell_type": "code",
   "execution_count": 6,
   "metadata": {},
   "outputs": [],
   "source": [
    "import re\n",
    "with open(dali_in, \"r\") as handle:\n",
    "    data = handle.readline()\n",
    "data = re.sub(r\"[A-Z]{5} \", \"\", data)\n",
    "with open(dali_out, \"w\") as handle:\n",
    "    handle.write(data)"
   ]
  },
  {
   "attachments": {},
   "cell_type": "markdown",
   "metadata": {},
   "source": [
    "## Rename iqtree file"
   ]
  },
  {
   "cell_type": "code",
   "execution_count": 13,
   "metadata": {},
   "outputs": [],
   "source": [
    "import re\n",
    "with open(iqtree_in, \"r\") as handle:\n",
    "    data = handle.readline()\n",
    "data = re.sub(r\"(None|NCBI|TR|SP)_([A-Za-z0-9_\\-\\.]+)_([A-Z][a-z]+_[a-z]+)\", r\"\\1|\\2|\\3\", data)\n",
    "data\n",
    "with open(iqtree_out, \"w\") as handle:\n",
    "    handle.write(data)"
   ]
  },
  {
   "attachments": {},
   "cell_type": "markdown",
   "metadata": {},
   "source": [
    "## Create iTOL coloring file"
   ]
  },
  {
   "cell_type": "code",
   "execution_count": 14,
   "metadata": {},
   "outputs": [],
   "source": [
    "from distinctipy import distinctipy\n",
    "\n",
    "id_name = \"identifier\"\n",
    "group_name = \"cysteine_group\"\n",
    "\n",
    "df = pd.read_csv(csv_path)\n",
    "\n",
    "# number of colours to generate\n",
    "N = len(df[group_name].unique())\n",
    "seed = 42\n",
    "\n",
    "colorblind_type = \"Normal\"\n",
    "colors = distinctipy.get_colors(N, colorblind_type=colorblind_type, rng=seed)\n",
    "colors = [\"#\" + \"\".join([f\"{int(c * 255):02X}\" for c in color]) for color in colors]\n",
    "color_group = {g: c for g, c in zip(df[group_name].unique(), colors)}\n",
    "\n",
    "with open(itol_out, \"w\") as handle:\n",
    "    handle.write(\"TREE_COLORS\\n\")\n",
    "    handle.write(\"SEPARATOR TAB\\n\")\n",
    "    handle.write(\"DATA\\n\")\n",
    "    for group in df[group_name].unique():\n",
    "        for idx, row in df[df[group_name] == group].iterrows():\n",
    "            uid = (\n",
    "                row[id_name]\n",
    "                # .replace(\":\", \"_\")\n",
    "                # .replace(\"ID=\", \"ID\")\n",
    "                # .replace(\"=\", \"_\")\n",
    "            )\n",
    "            # group = row[\"group\"]\n",
    "            color = color_group[group]\n",
    "            handle.write(f\"{uid}\\trange\\t{color}\\t{group}\\n\")"
   ]
  }
 ],
 "metadata": {
  "kernelspec": {
   "display_name": "rostspace",
   "language": "python",
   "name": "python3"
  },
  "language_info": {
   "codemirror_mode": {
    "name": "ipython",
    "version": 3
   },
   "file_extension": ".py",
   "mimetype": "text/x-python",
   "name": "python",
   "nbconvert_exporter": "python",
   "pygments_lexer": "ipython3",
   "version": "3.10.9"
  },
  "orig_nbformat": 4
 },
 "nbformat": 4,
 "nbformat_minor": 2
}
