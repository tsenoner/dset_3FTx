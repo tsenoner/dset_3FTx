{
 "cells": [
  {
   "cell_type": "code",
   "execution_count": 14,
   "metadata": {},
   "outputs": [],
   "source": [
    "from pathlib import Path\n",
    "import pandas as pd\n",
    "import dendropy\n",
    "from ete3 import Tree\n",
    "\n",
    "base = Path(\"../data/online_version/\")\n",
    "csv_path = base / \"20230330_3FTx.csv\"\n",
    "df = pd.read_csv(csv_path)\n",
    "\n",
    "nexus_file = Path(\"../data/phylo_tree/exabays/20230419_3FTx.nexus\")\n",
    "newick_file = nexus_file.with_suffix(\".newick\")"
   ]
  },
  {
   "cell_type": "code",
   "execution_count": 7,
   "metadata": {},
   "outputs": [],
   "source": [
    "def nexus2newick(nexus_file: str, newick_file: str) -> None:\n",
    "    # Read the Nexus file, save node support,  and convert it to Newick format\n",
    "    nexus_tree = dendropy.Tree.get(path=nexus_file, schema=\"nexus\")\n",
    "    for node in nexus_tree.postorder_node_iter():\n",
    "        if node.is_internal():\n",
    "            node.label = node.annotations['prob(percent)'].value\n",
    "\n",
    "    nexus_tree.write(\n",
    "        path=newick_file,\n",
    "        schema=\"newick\",\n",
    "        suppress_rooting=True,\n",
    "        )"
   ]
  },
  {
   "cell_type": "code",
   "execution_count": 27,
   "metadata": {},
   "outputs": [],
   "source": [
    "species = [\"Bungarus multicinctus\", \"Homo sapiens\", \"Naja naja\", \"Varanus komodoensis\"]\n",
    "#nexus2newick(nexus_file=nexus_file, newick_file=newick_file)\n",
    "for spe in species:\n",
    "    tree_out = f\"../data/phylo_tree/species/{spe.replace(' ', '_')}.newick\"\n",
    "    species_ids = df.loc[\n",
    "        (df[\"id_new\"] <= 1416) & (df[\"species\"] == spe), \"identifier\"\n",
    "    ].to_list()\n",
    "    species_ids = [\"'SP|Q17RY6-2|Homo sapiens'\" if s == 'SP|Q17RY6-2|Homo_sapiens' else s for s in species_ids]\n",
    "    t = Tree(str(newick_file))\n",
    "    t.prune(species_ids)\n",
    "    t.write(format=2, outfile=tree_out)"
   ]
  }
 ],
 "metadata": {
  "kernelspec": {
   "display_name": "ete3",
   "language": "python",
   "name": "python3"
  },
  "language_info": {
   "codemirror_mode": {
    "name": "ipython",
    "version": 3
   },
   "file_extension": ".py",
   "mimetype": "text/x-python",
   "name": "python",
   "nbconvert_exporter": "python",
   "pygments_lexer": "ipython3",
   "version": "3.6.13"
  },
  "orig_nbformat": 4,
  "vscode": {
   "interpreter": {
    "hash": "baea0bb767b7b8bd2aadd1cc8f6780502c6608f745ec5fab616ff3877a31ae0a"
   }
  }
 },
 "nbformat": 4,
 "nbformat_minor": 2
}
