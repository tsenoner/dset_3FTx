{
 "cells": [
  {
   "cell_type": "code",
   "execution_count": 1,
   "metadata": {},
   "outputs": [],
   "source": [
    "from pathlib import Path\n",
    "import pandas as pd\n",
    "\n",
    "base = Path(\"../data/online_version/\")\n",
    "csv_path = base / \"20230307_3FTx.csv\"\n",
    "df = pd.read_csv(csv_path)\n",
    "\n",
    "newick_path = \"../data/phylo_tree/exabays/20230307_3FTx.newick\""
   ]
  },
  {
   "cell_type": "code",
   "execution_count": 4,
   "metadata": {},
   "outputs": [],
   "source": [
    "species = \"Varanus komodoensis\"\n",
    "tree_out = f\"../data/phylo_tree/species/{species.replace(' ', '_')}.newick\"\n",
    "\n",
    "species_ids = df.loc[\n",
    "    (df[\"species\"] == species) & (df[\"id_new\"] <= 1416), \"identifier\"\n",
    "].to_list()"
   ]
  },
  {
   "cell_type": "code",
   "execution_count": 5,
   "metadata": {},
   "outputs": [],
   "source": [
    "from ete3 import Tree\n",
    "\n",
    "t = Tree(str(newick_path))\n",
    "t.prune(species_ids)\n",
    "t.write(format=2, outfile=tree_out)"
   ]
  }
 ],
 "metadata": {
  "kernelspec": {
   "display_name": "ete3",
   "language": "python",
   "name": "python3"
  },
  "language_info": {
   "codemirror_mode": {
    "name": "ipython",
    "version": 3
   },
   "file_extension": ".py",
   "mimetype": "text/x-python",
   "name": "python",
   "nbconvert_exporter": "python",
   "pygments_lexer": "ipython3",
   "version": "3.6.13"
  },
  "orig_nbformat": 4
 },
 "nbformat": 4,
 "nbformat_minor": 2
}
