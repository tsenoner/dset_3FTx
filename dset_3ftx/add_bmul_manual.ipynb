{
 "cells": [
  {
   "cell_type": "code",
   "execution_count": 1,
   "metadata": {},
   "outputs": [
    {
     "data": {
      "text/html": [
       "\n",
       "                <script type=\"application/javascript\" id=\"jupyter_black\">\n",
       "                (function() {\n",
       "                    if (window.IPython === undefined) {\n",
       "                        return\n",
       "                    }\n",
       "                    var msg = \"WARNING: it looks like you might have loaded \" +\n",
       "                        \"jupyter_black in a non-lab notebook with \" +\n",
       "                        \"`is_lab=True`. Please double check, and if \" +\n",
       "                        \"loading with `%load_ext` please review the README!\"\n",
       "                    console.log(msg)\n",
       "                    alert(msg)\n",
       "                })()\n",
       "                </script>\n",
       "                "
      ],
      "text/plain": [
       "<IPython.core.display.HTML object>"
      ]
     },
     "metadata": {},
     "output_type": "display_data"
    }
   ],
   "source": [
    "import jupyter_black\n",
    "\n",
    "jupyter_black.load()"
   ]
  },
  {
   "cell_type": "code",
   "execution_count": 2,
   "metadata": {},
   "outputs": [],
   "source": [
    "from pathlib import Path\n",
    "from pyfaidx import Fasta\n",
    "import pandas as pd\n",
    "\n",
    "fasta_path = \"../data/protspace_after_dan/3FTx_isoform_yes.fasta\"\n",
    "fasta_full_path = \"../data/protspace_after_dan/3FTx_full.fasta\"\n",
    "csv_path = \"../data/protspace_after_dan/3FTx.csv\"\n",
    "\n",
    "bmul_fasta_path = \"../data/bmul_manual_ivan/Bungarus_genomic.fasta\"\n",
    "missed_fasta_path = \"../data/bmul_manual_ivan/missed_cobra.fasta\"\n",
    "new_fasta_path = \"../data/bmul_manual_ivan/all_new.fasta\"\n",
    "mature_fasta_path = \"../data/bmul_manual_ivan/new_mature.fasta\"\n",
    "\n",
    "out_dir = Path(\"../data/protspace_after_ivan_manual_bmul\")\n",
    "out_fasta = out_dir / \"3FTx.fasta\"\n",
    "out_csv = out_dir / \"3FTx.csv\""
   ]
  },
  {
   "cell_type": "code",
   "execution_count": 96,
   "metadata": {},
   "outputs": [],
   "source": [
    "# merge seqs together\n",
    "with open(new_fasta_path, \"w\") as handle:\n",
    "    for path in [bmul_fasta_path, missed_fasta_path]:\n",
    "        for header, seq in Fasta(path).items():\n",
    "            handle.write(f\">{header}\\n\")\n",
    "            handle.write(f\"{seq}\\n\")\n",
    "\n",
    "# remove duplicates and save without duplicates\n",
    "seqs = dict()\n",
    "for header, seq in Fasta(new_fasta_path).items():\n",
    "    seqs.setdefault(str(seq), []).append(header)\n",
    "\n",
    "with open(new_fasta_path, \"w\") as handle:\n",
    "    for seq, headers in seqs.items():\n",
    "        handle.write(f\">{headers[0]}\\n\")\n",
    "        handle.write(f\"{seq}\\n\")"
   ]
  },
  {
   "cell_type": "code",
   "execution_count": 3,
   "metadata": {},
   "outputs": [],
   "source": [
    "# --- create new sequences ---\n",
    "df = pd.read_csv(csv_path)\n",
    "new_seqs = dict()\n",
    "for header, seq in Fasta(mature_fasta_path).items():\n",
    "    if header.startswith(\"ScVE01q\"):\n",
    "        species = \"Naja naja\"\n",
    "    else:\n",
    "        species = \"Bungarus multicinctus\"\n",
    "    seq = str(seq)\n",
    "    entry = df.loc[(df[\"species\"] == species) & (df[\"mature_seq\"] == seq)]\n",
    "    if len(entry) == 0:\n",
    "        uid = f\"None|{header}|{species.replace(' ', '_')}\"\n",
    "        new_seqs[uid] = seq\n",
    "        # print(f\">{uid}\")\n",
    "        # print(f\"{seq}\")\n",
    "\n",
    "# -- get full seq\n",
    "full_seq_map = {}\n",
    "for header, seq in Fasta(new_fasta_path).items():\n",
    "    header = header.replace(\";\", \"_\").replace(\"=\", \"_\")\n",
    "    full_seq_map[header] = str(seq)\n",
    "\n",
    "# --- save FASTA & CSV with new seqs\n",
    "with open(out_fasta, \"w\") as handle:\n",
    "    for header, seq in Fasta(fasta_path).items():\n",
    "        handle.write(f\">{header}\\n\")\n",
    "        handle.write(f\"{seq}\\n\")\n",
    "    for uid, seq in new_seqs.items():\n",
    "        db, header, species = uid.split(\"|\")\n",
    "        full_seq = full_seq_map[header]\n",
    "        handle.write(f\">{uid}\\n\")\n",
    "        handle.write(f\"{seq}\\n\")\n",
    "        new_row = pd.Series(\n",
    "            {\n",
    "                \"identifier\": uid,\n",
    "                \"mature_seq\": seq,\n",
    "                \"cysteine_group\": \"new\",\n",
    "                \"full_seq\": full_seq,\n",
    "                \"species\": species.replace(\"_\", \" \"),\n",
    "            }\n",
    "        )\n",
    "        df = pd.concat([df, new_row.to_frame().T], ignore_index=True)\n",
    "df.to_csv(out_csv, index=False)"
   ]
  },
  {
   "cell_type": "code",
   "execution_count": 105,
   "metadata": {},
   "outputs": [
    {
     "data": {
      "text/plain": [
       "{'B.multicinctus_HiC_scaffold6_G00174.t1': 'MKTLLLTLMVVTIVCLDLGYTRKCLNCPTRYCTTFHTCPDGQDLCFKRFYDGNQLGWRATRGCAATCPEAKPRETVECCATDKCNL',\n",
       " 'B.multicinctus_HiC_scaffold7_G00718.t1': 'MKSLLLMTLVVVTIMCLDLGYTRKCLLTPLPLFYQTCPVGQNLCFKMTVKVLPFKYDVIRGCASTCPKNTANVVVVCCETDKCNQ',\n",
       " 'B.multicinctus_HiC_scaffold7_G00738.t1': 'MKTLLLTLVVVTIVCLDLGYTIICRTRDTYQIPITFTNCEEGHVCYKYSTTETPNRILIHRGCAAKCPKRLRVICCSTDKCNK',\n",
       " 'B.multicinctus_HiC_scaffold7_G00790.t1': 'MKTLLLTLVVVAIVCLDLGYTLTCLICPEKYCHTVHTCRNEEKICVKRFYDNKLLGWKAHRGCAVTCPETKPDETVVCCSTDKCNK',\n",
       " 'B.multicinctus_HiC_scaffold7_G00795.t1': 'MKVSLATWLIFAASVDLVFSLRCYTCSEPMDVSYCVAVTHCPANTTSCKTTVHSVDSGFPFFGNITVSKSCSKNCVPSEPDTIGDNHPNYCCYTDLCNVGAGQAPTAEFSALSFTIILALSLLWLQG',\n",
       " 'B.multicinctus_HiC_scaffold7_G00800.t1': 'MPAGMKAPLAILLAACLCVDGVFSLVCWSCENVESNWGCWRTQICPDGFNYCATTYTGAGIGEYSAQSISKGCVSTCPSVGVDIGIAAVSIHCCSSFLCNISGANSIQINHLVLALAMLASFFYLFGSRL',\n",
       " 'B.multicinctus_HiC_scaffold7_G00801.t1': 'MLSDAGAAAASSSSSGPFSRHRPLTMKPLFAALLAGLLCMQTAMSSLICISCDKVDHNSKCYDLKVCDEDNDRYCYTKYFGTGSGENHKEMISKGCTSECPEVGFDIGLMAFSMKCCKHSLCNTSGAVSVKTSSLLLLVGTLASVFYIIGANL',\n",
       " 'B.multicinctus_HiC_scaffold7_G00802.t1': 'MKAFLFVLLVLAFMCKDPESEMFQCYGSNCKVKKQCSEEEKYCSTQEGPFGPKPEGCASICRKSMFFKVRCCTTDLCN',\n",
       " 'B.multicinctus_HiC_scaffold7_G00803.t1': 'MKALLSALLLVAFLFKDPVKSMKCYRCGVSGCHLKITCSAEETFCYKWLNKISNERWLGCAKTCTEKDTWNVYNKCCTTNLCNT',\n",
       " 'B.multicinctus_HiC_scaffold7_G00805.t1': 'MKTLLLTLVVVTIVCLDLGYTMQCKTCSFYTCPNSETCPDGKNICVKRSWTAVRGDGPKREIRRECAATCPPSKLGLTVFCCTTDNCNH',\n",
       " 'B.multicinctus_HiC_scaffold7_G00807.t1': 'MKALLFVLLLAAFMCKNPVTSLICYYNRDSAASCSSGDKYCYFMNYLYAVPKWELGCAQKCPQRTEVRHIKCCTTDFCNNF',\n",
       " 'B.multicinctus_HiC_scaffold7_G00808.t1': 'MKALLFVLLVMAFMCKDPVTSLKCYTSDQSMISCSAGDKYCYNMVYKHGILRNGCAKECPEPNTGRNVECCTYHLCNKLL',\n",
       " 'B.multicinctus_HiC_scaffold7_G00809.t1': 'MKTLLLTLVVVTIVCLDLGYTMKCKICHFDTCRAGELKVCASGEKYCFKESWREARGTRIERGCAATCPKGSVYGLYVLCCTTDDCN',\n",
       " 'B.multicinctus_HiC_scaffold7_G00810.t1': 'MKTLLLTLVVLTIACLDLGYTKTCFNDDLTNPKTTELCRHSMYFCFKNSWIAGGVERIERGCSLTCPDIKYNGKYIYCCTRDNCNA',\n",
       " 'B.multicinctus_HiC_scaffold7_G00815.t1': 'MKTLLLTLVVVTIVCLDLGYTRTCHISTSSTPQTCPKGQDICFRKTQCDKFCSIRGAVIEQGCVATCPEFRSNYRSLLCCRTDNCNP',\n",
       " 'B.multicinctus_HiC_scaffold7_G00816.t1': 'MKTLLLTLVVVTIVCLDLGYTRTCLISPSSTPQTCPNGQDICFLKAQCDKFCSIRGPVIEQGCVATCPQFRSNYRSLLCCTTDNCNH',\n",
       " 'B.multicinctus_HiC_scaffold7_G00817.t1': 'MKILLLTLVVGTMVCLDLGDITKCYNHQSRTPETTEICPDSDYFCYKISLIDGDGFKIRRGCTNTCPELVTNRNYVYCCKRERCNQ',\n",
       " 'B.multicinctus_HiC_scaffold7_G00819.t1': 'MKTLMLVLLVVGLVYLDSGYTLLCRKCNETVCDLNGKCAAGEDQCYIIQNNDDTTGLHAIQGCTGTCPTVESYQKVKCCNIDYCNSYI',\n",
       " 'B.multicinctus_HiC_scaffold7_G00905.t1': 'MKTLLLTLVVVTIVCLDLGYTRTCLISPSSPPQTCPKGEDICIVKARCDEWCLSREPLIERGCAATCPEFRSNYRSLLCCTTDNCNH',\n",
       " 'B.multicinctus_HiC_scaffold9_G00036.t1': 'MKTLLLTLVVVTIMSLDLGYTRMCNMCVRPYPVDSESRCCPEGQDTCYKNYWVNEFGHKQIPYKKNYPVMLKSGCVTTCTGPKALGILICCPTKDCNSS',\n",
       " 'B.multicinctus_HiC_scaffold27_G00001.t1': 'MKTLLLTLVVVTIVCLDLGYTIVCHTTATSPISAVTCPPGENLCYRKMWCDAFCSSRGKVVELGCAATCPSKKPYEEVTCCSTDKCNPHPKQRPG',\n",
       " 'B.multicinctus_HiC_scaffold27_G00003.t1': 'MKTLLLTLVVVTIVCLDLGYTRTCLISPSSPPQTCPKGEDICIVKARCDEWCLSRGPLIERGCAATCPEFRSNYRSLLCCTTDNCNH',\n",
       " 'B.multicinctus_HiC_scaffold52_G00002.t1': 'MKTLLLTLVVVTIVCLDLGYTIVCHTTATSPISAVTCPPGENLCYRKMWCDVFCSSRGKVVELGCAATCPSKKPYEEVTCCSTDKCNPHPKQRPG',\n",
       " 'denovo_1_scaffold7': 'MRTLLLTLVVLTIVCLDLGYTRKCLIKYSQANESSKTCPSGQLLCLKKWEIGNPSGKEVKRGCVATCPKPKKNEIIQCCAKDKCNK',\n",
       " 'denovo_2_scaffold7': 'MKTLLLILVVVTLVCPDLAHTLICHSCTGALCPGHEQCPDGQKLCYGKWNKTDVFIIRGCAATCPTEGPNEKVIYCTYDKCNC',\n",
       " 'denovo_scaffold35': 'MKTLLLTLVVVTIVCYTRTCLISPSSPPQTCPKGEDICIVKARCDEWCKYRPLIERGCAATCPEFRSNYRSLLCCTTDNCNH',\n",
       " 'ScVE01q_1072_HRSCAF=1231_-_30': 'MKTLLLTLVVVTMVCMDLGYTTICYNHLTRTSETTEICPDSWYFCYKISLADGNDVRIERGCTFTCPELRPTGIYVYCCRRDKCNK',\n",
       " 'ScVE01q_1072_HRSCAF=1231_-_31': 'MKTLLLTLVVVTIVCLDLGYTLKCHNTQLPFIYKTCPEGKNLCFKATLKKFPLKFPVKRGCADNCPKNSALLKYVCCSTDKCN',\n",
       " 'ScVE01q_1072_HRSCAF=1231_-_32': 'MKTLLLTLVVVTIVCLDLGYTLKCHNTQLPLIYKTCPEGKNLCFKMTLKRFPLKFPVKRGCAATCPKSNALVKVVCCKTDKCN',\n",
       " 'ScVE01q_1072_HRSCAF=1231_-_33': 'MKTLLLTLVVVTIVCLDLGSTLKCNKLIPLAYKTCPAGKNLCYKMYMVGCIDVCPKNSLLVKYVCCNTDRCN'}"
      ]
     },
     "execution_count": 105,
     "metadata": {},
     "output_type": "execute_result"
    }
   ],
   "source": [
    "full_seq_map"
   ]
  },
  {
   "cell_type": "code",
   "execution_count": null,
   "metadata": {},
   "outputs": [],
   "source": []
  }
 ],
 "metadata": {
  "kernelspec": {
   "display_name": "rostspace",
   "language": "python",
   "name": "python3"
  },
  "language_info": {
   "codemirror_mode": {
    "name": "ipython",
    "version": 3
   },
   "file_extension": ".py",
   "mimetype": "text/x-python",
   "name": "python",
   "nbconvert_exporter": "python",
   "pygments_lexer": "ipython3",
   "version": "3.9.13"
  },
  "orig_nbformat": 4
 },
 "nbformat": 4,
 "nbformat_minor": 2
}
