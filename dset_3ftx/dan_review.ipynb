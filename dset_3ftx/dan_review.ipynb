{
 "cells": [
  {
   "cell_type": "code",
   "execution_count": 1,
   "metadata": {},
   "outputs": [
    {
     "data": {
      "text/html": [
       "\n",
       "                <script type=\"application/javascript\" id=\"jupyter_black\">\n",
       "                (function() {\n",
       "                    if (window.IPython === undefined) {\n",
       "                        return\n",
       "                    }\n",
       "                    var msg = \"WARNING: it looks like you might have loaded \" +\n",
       "                        \"jupyter_black in a non-lab notebook with \" +\n",
       "                        \"`is_lab=True`. Please double check, and if \" +\n",
       "                        \"loading with `%load_ext` please review the README!\"\n",
       "                    console.log(msg)\n",
       "                    alert(msg)\n",
       "                })()\n",
       "                </script>\n",
       "                "
      ],
      "text/plain": [
       "<IPython.core.display.HTML object>"
      ]
     },
     "metadata": {},
     "output_type": "display_data"
    }
   ],
   "source": [
    "import jupyter_black\n",
    "\n",
    "jupyter_black.load()"
   ]
  },
  {
   "cell_type": "code",
   "execution_count": 65,
   "metadata": {},
   "outputs": [],
   "source": [
    "from pathlib import Path\n",
    "from pyfaidx import Fasta\n",
    "import pandas as pd\n",
    "import numpy as np\n",
    "import h5py\n",
    "\n",
    "\n",
    "base = Path(\"../data/dan_review/\")\n",
    "out_base = Path(\"../data/protspace_after_dan/\")\n",
    "ppihp_base = base / \"PPIHP\"\n",
    "# PATH in\n",
    "csv_path = base / \"3FTx_addedNew.csv\"\n",
    "fasta_path = base / \"3FTx_resubmission_DSD_v2.fasta\"\n",
    "manual_new = base / \"manual_new.fasta\"\n",
    "signalp_new = base / \"signalp.fasta\"\n",
    "old_fasta_full_path = \"../data/protspace/3FTx_full.fasta\"\n",
    "# PPIHP\n",
    "embs_prott5_path = ppihp_base / \"protein_embeddings.npy\"\n",
    "ids_path = ppihp_base / \"ids.txt\"\n",
    "la_mem_path = ppihp_base / \"la_mem_pred.txt\"\n",
    "\n",
    "\n",
    "# PATH out\n",
    "fasta_isoform_out = out_base / \"3FTx_isoform_yes.fasta\"\n",
    "fasta_noIsoform_out = out_base / \"3FTx_isoform_no.fasta\"\n",
    "h5_prott5_out = out_base / \"3FTx_prott5.h5\"\n",
    "csv_out = out_base / \"3FTx.csv\"\n",
    "fast_full_out = out_base / \"3FTx_full.fasta\""
   ]
  },
  {
   "cell_type": "code",
   "execution_count": 66,
   "metadata": {},
   "outputs": [],
   "source": [
    "def read_txt_file(txt_file) -> list[str]:\n",
    "    data = []\n",
    "    with open(txt_file, \"r\") as handle_txt:\n",
    "        for line in handle_txt:\n",
    "            line = line.strip()\n",
    "            data.append(line)\n",
    "    return data"
   ]
  },
  {
   "attachments": {},
   "cell_type": "markdown",
   "metadata": {},
   "source": [
    "### Save ProtT5 embeddings from .npy to .h5"
   ]
  },
  {
   "cell_type": "code",
   "execution_count": 71,
   "metadata": {},
   "outputs": [],
   "source": [
    "embs = np.load(embs_prott5_path)\n",
    "headers = [header.replace(\">\", \"\") for header in read_txt_file(ids_path)]\n",
    "\n",
    "with h5py.File(h5_prott5_out, \"w\") as handle_hdf:\n",
    "    for header, emb in zip(headers, embs):\n",
    "        handle_hdf.create_dataset(header, data=emb)"
   ]
  },
  {
   "attachments": {},
   "cell_type": "markdown",
   "metadata": {},
   "source": [
    "### Add PPIHP predictions to .csv file"
   ]
  },
  {
   "cell_type": "code",
   "execution_count": 68,
   "metadata": {},
   "outputs": [],
   "source": [
    "df = pd.read_csv(csv_path)\n",
    "df = df.drop(columns=[\"id_new\"])\n",
    "for header, la_mem in zip(headers, read_txt_file(la_mem_path)):\n",
    "    df.loc[df[\"identifier\"] == header, \"pred_membran\"] = la_mem\n",
    "df.to_csv(csv_out, index=False)"
   ]
  },
  {
   "attachments": {},
   "cell_type": "markdown",
   "metadata": {},
   "source": [
    "### Create FASTA files without \"-\""
   ]
  },
  {
   "cell_type": "code",
   "execution_count": 69,
   "metadata": {},
   "outputs": [],
   "source": [
    "# yes Isoforms\n",
    "with open(fasta_isoform_out, \"w\") as fasta_handle:\n",
    "    for header, seq in Fasta(fasta_path, read_long_names=True).items():\n",
    "        seq = str(seq).replace(\"-\", \"\")\n",
    "        fasta_handle.write(f\">{header}\\n\")\n",
    "        fasta_handle.write(f\"{seq}\\n\")\n",
    "    for header, seq in Fasta(signalp_new, read_long_names=True).items():\n",
    "        fasta_handle.write(f\">{header}\\n\")\n",
    "        fasta_handle.write(f\"{seq}\\n\")\n",
    "\n",
    "# No isoforms\n",
    "with open(fasta_noIsoform_out, \"w\") as fasta_handle:\n",
    "    for header, seq in Fasta(fasta_path, read_long_names=True).items():\n",
    "        seq = str(seq).replace(\"-\", \"\")\n",
    "        fasta_handle.write(f\">{header}\\n\")\n",
    "        fasta_handle.write(f\"{seq}\\n\")"
   ]
  },
  {
   "cell_type": "code",
   "execution_count": 70,
   "metadata": {},
   "outputs": [],
   "source": [
    "# write full sequences out\n",
    "with open(fast_full_out, \"w\") as handle_out:\n",
    "    for header, seq in Fasta(old_fasta_full_path, read_long_names=True).items():\n",
    "        header = header.replace(\" \", \"_\")\n",
    "        if header in df[\"identifier\"].to_list():\n",
    "            handle_out.write(f\">{header}\\n\")\n",
    "            handle_out.write(f\"{seq}\\n\")\n",
    "    for header, seq in Fasta(manual_new, read_long_names=True).items():\n",
    "        seq = str(seq)\n",
    "        if seq.startswith(\"M\"):\n",
    "            handle_out.write(f\">{header}\\n\")\n",
    "            handle_out.write(f\"{seq}\\n\")"
   ]
  },
  {
   "attachments": {},
   "cell_type": "markdown",
   "metadata": {},
   "source": [
    "### create clans file\n",
    "Coloring starts with `<seqgroups>` and ends with `</seqgroups>`. Each group contains name, type, size, hide, color, numbers. e.g:\n",
    "```\n",
    "name=network:10;true;false_25\n",
    "type=0\n",
    "size=4\n",
    "hide=0\n",
    "color=208;53;28;255\n",
    "numbers=558;563;587;593;598;614;622;626;627;634;\n",
    "```"
   ]
  },
  {
   "cell_type": "code",
   "execution_count": 132,
   "metadata": {},
   "outputs": [
    {
     "data": {
      "image/png": "[encoded data removed]",
      "text/plain": [
       "<Figure size 800x800 with 1 Axes>"
      ]
     },
     "metadata": {},
     "output_type": "display_data"
    }
   ],
   "source": [
    "import colorsys\n",
    "from distinctipy import distinctipy\n",
    "\n",
    "coloring_col = \"cysteine_group\"\n",
    "group_members = df[coloring_col].unique()\n",
    "\n",
    "# number of colours to generate\n",
    "N = len(group_members)\n",
    "seed = 42\n",
    "\n",
    "# 'Normal', 'Protanopia', 'Protanomaly', 'Deuteranopia', 'Deuteranomaly', 'Tritanopia', 'Tritanomaly', 'Achromatopsia', 'Achromatomaly'\n",
    "colorblind_type = \"Normal\"\n",
    "colors = distinctipy.get_colors(N, colorblind_type=colorblind_type, rng=seed)\n",
    "colors = [colorsys.rgb_to_hls(*color) for color in colors]\n",
    "colors = [colorsys.hls_to_rgb(*color) for color in sorted(colors[:N])]\n",
    "\n",
    "# display the colours\n",
    "distinctipy.color_swatch(colors)\n",
    "colors = [list(map(lambda x: int(x * 255), color)) + [255] for color in colors]"
   ]
  },
  {
   "cell_type": "code",
   "execution_count": 128,
   "metadata": {},
   "outputs": [
    {
     "name": "stdout",
     "output_type": "stream",
     "text": [
      "Long-chain\n",
      "Ly-6\n",
      "Non-standard\n",
      "Plesiotypic\n",
      "Short-chain\n",
      "pre-3FTx\n"
     ]
    }
   ],
   "source": [
    "clans_in_path = Path(\"../data/clans/10K_run.txt\")\n",
    "clans_out_path = Path(\"../data/clans/10K_run_color.txt\")\n",
    "\n",
    "data = []\n",
    "dot_size = 7\n",
    "with open(clans_in_path, \"r\") as handle_in, open(clans_out_path, \"w\") as handle_out:\n",
    "    seq_part = False\n",
    "    for line in handle_in:\n",
    "        # --- read data ---\n",
    "        if line.startswith(\"<seq>\"):\n",
    "            seq_part = True\n",
    "        elif line.startswith(\"</seq>\"):\n",
    "            seq_part = False\n",
    "\n",
    "        if line.startswith(\">\") and seq_part:\n",
    "            header = line.strip()[1:]\n",
    "            data.append(header)\n",
    "\n",
    "        # --- write data ---\n",
    "        handle_out.write(line)\n",
    "        if line.startswith(\"</seq>\"):\n",
    "            # write colors\n",
    "            handle_out.write(\"<seqgroups>\\n\")\n",
    "            df_group = df.groupby(coloring_col)[\"identifier\"].apply(lambda x: list(x))\n",
    "            for (groupname, headers), color in zip(df_group.items(), colors):\n",
    "                print(groupname)\n",
    "                indices = []\n",
    "                for header in headers:\n",
    "                    idx = data.index(header)\n",
    "                    indices.append(idx)\n",
    "                handle_out.write(f\"name={groupname}\\n\")\n",
    "                handle_out.write(\"type=0\\n\")\n",
    "                handle_out.write(f\"size={dot_size}\\n\")\n",
    "                handle_out.write(\"hide=0\\n\")\n",
    "                handle_out.write(f\"color={';'.join(map(str, color))}\\n\")\n",
    "                handle_out.write(f\"numbers={';'.join(map(str, indices))}\\n\")\n",
    "            handle_out.write(\"</seqgroups>\\n\")"
   ]
  }
 ],
 "metadata": {
  "kernelspec": {
   "display_name": "dset-3ftx-zbvyu_fa-py3.10",
   "language": "python",
   "name": "python3"
  },
  "language_info": {
   "codemirror_mode": {
    "name": "ipython",
    "version": 3
   },
   "file_extension": ".py",
   "mimetype": "text/x-python",
   "name": "python",
   "nbconvert_exporter": "python",
   "pygments_lexer": "ipython3",
   "version": "3.10.8"
  },
  "orig_nbformat": 4,
  "vscode": {
   "interpreter": {
    "hash": "f81b69f198023846c7ea0ce443045fb0d01be6197a356388c4bf1ce48e9cf6b6"
   }
  }
 },
 "nbformat": 4,
 "nbformat_minor": 2
}
