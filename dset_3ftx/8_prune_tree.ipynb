{
 "cells": [
  {
   "cell_type": "code",
   "execution_count": 11,
   "metadata": {},
   "outputs": [],
   "source": [
    "from pathlib import Path\n",
    "import dendropy\n",
    "\n",
    "# specify the path to the Nexus file\n",
    "nexus_file = Path(\"../data/phylo_tree/exabays/only/only_2023_04_20.nexus\")\n",
    "nexus_file = Path(\"../data/phylo_tree/exabays/no/no_2023_04_20.nexus\")\n",
    "nexus_file = Path(\"../data/phylo_tree/exabays/20230419_3FTx.nexus\")\n",
    "new_nexus_file = nexus_file.with_name(f\"{nexus_file.stem}_collapsed.nexus\")\n",
    "\n",
    "\n",
    "# --- read in the Nexus file\n",
    "tree = dendropy.Tree.get(path=nexus_file, schema=\"nexus\")\n",
    "\n",
    "# --- save tree in newick format\n",
    "# newick_file = nexus_file.with_suffix(\".newick\")\n",
    "# tree.write(path=newick_file, schema=\"newick\", suppress_rooting=True)\n",
    "\n",
    "# --- remove nodes that have a bootstrap suppert value below 50%\n",
    "for idx, node in enumerate(tree):\n",
    "    prob = node.annotations[\"prob(percent)\"].value\n",
    "    if prob and float(prob) < 50:\n",
    "        node.edge.collapse()\n",
    "tree.write(path=new_nexus_file, schema=\"nexus\", suppress_rooting=True)\n"
   ]
  },
  {
   "cell_type": "code",
   "execution_count": 9,
   "metadata": {},
   "outputs": [],
   "source": []
  }
 ],
 "metadata": {
  "kernelspec": {
   "display_name": "ete3",
   "language": "python",
   "name": "python3"
  },
  "language_info": {
   "codemirror_mode": {
    "name": "ipython",
    "version": 3
   },
   "file_extension": ".py",
   "mimetype": "text/x-python",
   "name": "python",
   "nbconvert_exporter": "python",
   "pygments_lexer": "ipython3",
   "version": "3.6.13"
  },
  "orig_nbformat": 4,
  "vscode": {
   "interpreter": {
    "hash": "baea0bb767b7b8bd2aadd1cc8f6780502c6608f745ec5fab616ff3877a31ae0a"
   }
  }
 },
 "nbformat": 4,
 "nbformat_minor": 2
}
