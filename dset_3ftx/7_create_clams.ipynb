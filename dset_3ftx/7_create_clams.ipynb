{
 "cells": [
  {
   "cell_type": "code",
   "execution_count": 8,
   "metadata": {},
   "outputs": [],
   "source": [
    "from pathlib import Path\n",
    "import pandas as pd\n",
    "\n",
    "csv_path = \"../data/online_version/internal_data.csv\"\n",
    "clans_in_path = Path(\"../data/clans/10K_run.txt\")\n",
    "clans_out_path = clans_in_path.with_stem(\"10K_run_color\")\n",
    "\n",
    "df = pd.read_csv(csv_path)"
   ]
  },
  {
   "cell_type": "code",
   "execution_count": 9,
   "metadata": {},
   "outputs": [],
   "source": [
    "df = df.loc[df[\"in_tree\"] == \"yes\", :]"
   ]
  },
  {
   "cell_type": "code",
   "execution_count": 10,
   "metadata": {},
   "outputs": [],
   "source": [
    "colors = {\n",
    "    \"frog Ly6\": (0, 167, 157),\n",
    "    \"GPIHBP1\": (177, 224, 225),\n",
    "    \"Ly6 unique\": (230, 214, 214),\n",
    "    \"Ly6D\": (224, 131, 182),\n",
    "    \"Ly6E\": (237, 32, 36),\n",
    "    \"Ly6H\": (154, 76, 157),\n",
    "    \"Ly6K\": (236, 185, 185),\n",
    "    \"Ly6L\": (144, 35, 35),\n",
    "    \"LYNX1\": (214, 185, 217),\n",
    "    \"LYPD2\": (61, 91, 169),\n",
    "    \"PSCA\": (150, 138, 194),\n",
    "    \"Reptilian Ly6 group 6\": (241, 90, 41),\n",
    "    \"Reptilian Ly6 group 7\": (244, 119, 69),\n",
    "    \"Non-human mammalian Ly6\": (107, 44, 140),\n",
    "    \"Reptilian Ly6 group 1\": (189, 82, 42),\n",
    "    \"Reptilian Ly6 group 1-2\": (189, 82, 42),\n",
    "    \"Reptilian Ly6 group 2\": (248, 172, 79),\n",
    "    \"Reptilian Ly6 group 3\": (247, 146, 30),\n",
    "    \"Reptilian Ly6 group 5\": (255, 201, 25),\n",
    "    \"SLURP1\": (72, 139, 202),\n",
    "    \"SLURP2\": (232, 56, 149),\n",
    "    \"Reptilian Ly6 group 4\": (247, 236, 19),\n",
    "    \"Non-standard\": (120, 142, 66),\n",
    "    \"Plesiotypic\": (103, 189, 69),\n",
    "    \"Short-chain\": (99, 203, 229),\n",
    "    \"Long-chain\": (36, 99, 143),\n",
    "    \"LYNX1-SLURP2 readthrough\": (0, 0, 0),\n",
    "    \"Ly6 other\": (64, 64, 64),\n",
    "}"
   ]
  },
  {
   "cell_type": "code",
   "execution_count": 11,
   "metadata": {},
   "outputs": [
    {
     "name": "stdout",
     "output_type": "stream",
     "text": [
      "GPIHBP1\n",
      "LYNX1\n",
      "LYPD2\n",
      "Long-chain\n",
      "Ly6 unique\n",
      "Ly6D\n",
      "Ly6E\n",
      "Ly6H\n",
      "Ly6K\n",
      "Ly6L\n",
      "Non-human mammalian Ly6\n",
      "Non-standard\n",
      "PSCA\n",
      "Plesiotypic\n",
      "Reptilian Ly6 group 1\n",
      "Reptilian Ly6 group 1-2\n",
      "Reptilian Ly6 group 2\n",
      "Reptilian Ly6 group 3\n",
      "Reptilian Ly6 group 4\n",
      "Reptilian Ly6 group 5\n",
      "Reptilian Ly6 group 6\n",
      "Reptilian Ly6 group 7\n",
      "SLURP1\n",
      "SLURP2\n",
      "Short-chain\n",
      "frog Ly6\n"
     ]
    }
   ],
   "source": [
    "coloring_col = \"group\"\n",
    "\n",
    "data = []\n",
    "dot_size = 7\n",
    "with open(clans_in_path, \"r\") as handle_in, open(clans_out_path, \"w\") as handle_out:\n",
    "    seq_part = False\n",
    "    for line in handle_in:\n",
    "        # --- read data ---\n",
    "        if line.startswith(\"<seq>\"):\n",
    "            seq_part = True\n",
    "        elif line.startswith(\"</seq>\"):\n",
    "            seq_part = False\n",
    "\n",
    "        if line.startswith(\">\") and seq_part:\n",
    "            header = line.strip()[1:]\n",
    "            data.append(header)\n",
    "\n",
    "        # --- write data ---\n",
    "        handle_out.write(line)\n",
    "        if line.startswith(\"</seq>\"):\n",
    "            # write colors\n",
    "            handle_out.write(\"<seqgroups>\\n\")\n",
    "            df_group = df.groupby(coloring_col)[\"identifier\"].apply(lambda x: list(x))\n",
    "            for groupname, headers in df_group.items():\n",
    "                print(groupname)\n",
    "                indices = []\n",
    "                for header in headers:\n",
    "                    idx = data.index(header)\n",
    "                    indices.append(idx)\n",
    "                handle_out.write(f\"name={groupname}\\n\")\n",
    "                handle_out.write(\"type=0\\n\")\n",
    "                handle_out.write(f\"size={dot_size}\\n\")\n",
    "                handle_out.write(\"hide=0\\n\")\n",
    "                handle_out.write(f\"color={';'.join(map(str, colors[groupname]))}\\n\")\n",
    "                handle_out.write(f\"numbers={';'.join(map(str, indices))}\\n\")\n",
    "            handle_out.write(\"</seqgroups>\\n\")"
   ]
  }
 ],
 "metadata": {
  "kernelspec": {
   "display_name": "protspace3d",
   "language": "python",
   "name": "python3"
  },
  "language_info": {
   "codemirror_mode": {
    "name": "ipython",
    "version": 3
   },
   "file_extension": ".py",
   "mimetype": "text/x-python",
   "name": "python",
   "nbconvert_exporter": "python",
   "pygments_lexer": "ipython3",
   "version": "3.9.13"
  },
  "orig_nbformat": 4
 },
 "nbformat": 4,
 "nbformat_minor": 2
}
