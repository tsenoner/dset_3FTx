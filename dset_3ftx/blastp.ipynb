{
 "cells": [
  {
   "cell_type": "code",
   "execution_count": 1,
   "metadata": {},
   "outputs": [
    {
     "data": {
      "text/html": [
       "\n",
       "                <script type=\"application/javascript\" id=\"jupyter_black\">\n",
       "                (function() {\n",
       "                    if (window.IPython === undefined) {\n",
       "                        return\n",
       "                    }\n",
       "                    var msg = \"WARNING: it looks like you might have loaded \" +\n",
       "                        \"jupyter_black in a non-lab notebook with \" +\n",
       "                        \"`is_lab=True`. Please double check, and if \" +\n",
       "                        \"loading with `%load_ext` please review the README!\"\n",
       "                    console.log(msg)\n",
       "                    alert(msg)\n",
       "                })()\n",
       "                </script>\n",
       "                "
      ],
      "text/plain": [
       "<IPython.core.display.HTML object>"
      ]
     },
     "metadata": {},
     "output_type": "display_data"
    }
   ],
   "source": [
    "import jupyter_black\n",
    "\n",
    "jupyter_black.load()"
   ]
  },
  {
   "cell_type": "code",
   "execution_count": 2,
   "metadata": {},
   "outputs": [],
   "source": [
    "%load_ext autoreload\n",
    "%autoreload 2"
   ]
  },
  {
   "cell_type": "code",
   "execution_count": 3,
   "metadata": {},
   "outputs": [],
   "source": [
    "from pyfaidx import Fasta\n",
    "from pathlib import Path\n",
    "import re\n",
    "\n",
    "import uniprot_helper\n",
    "import ncbi_helper\n",
    "\n",
    "base = Path(\"../data\")\n",
    "raw = base / \"raw\"\n",
    "file = raw / \"BungarusMulticinctus.fasta\"\n",
    "ncbi_dir = base / \"ncbi_entries\"\n",
    "uniprot_dir = base / \"uniprot_entries\""
   ]
  },
  {
   "cell_type": "code",
   "execution_count": 40,
   "metadata": {},
   "outputs": [
    {
     "data": {
      "text/plain": [
       "<re.Match object; span=(0, 4), match='Cvir'>"
      ]
     },
     "execution_count": 40,
     "metadata": {},
     "output_type": "execute_result"
    }
   ],
   "source": [
    "re.match(\"^[A-Z][a-z]{3}\", \"Cvir_PDHV02000188_1_35190_37247_mka\")"
   ]
  },
  {
   "cell_type": "code",
   "execution_count": 256,
   "metadata": {},
   "outputs": [],
   "source": [
    "fasta = Fasta(file)\n",
    "\n",
    "\n",
    "uniprot_collector = uniprot_helper.UniProtDataGatherer(uniprot_dir=uniprot_dir)\n",
    "ncbi_collector = ncbi_helper.NcbiDataGatherer(ncbi_dir=ncbi_dir)\n",
    "\n",
    "taxon_mapper = {\n",
    "    \"Bmul\": \"Bungarus multicinctus\",\n",
    "    \"Cvir\": \"Crotalus viridis\",\n",
    "    \"Dacu\": \"Deinagkistrodon acutus\",\n",
    "    \"Hcur\": \"Hydrophis curtus\",\n",
    "    \"Nnaj\": \"Naja naja\",\n",
    "    # \"Pbiv\": \"Python bivittatus\",\n",
    "    # \"Pgut\": \"Pantherophis guttatus\",\n",
    "    # \"Tele\": \"Thamnophis elegans\",\n",
    "}\n",
    "\n",
    "# --- patterns ---\n",
    "# UniProt ID confined: https://www.uniprot.org/help/accession_numbers\n",
    "pattern_uniprot = r\"(?:_|^)([OPQ][0-9][A-Z0-9]{3}[0-9]|[A-NR-Z][0-9]([A-Z][A-Z0-9]{2}[0-9]){1,2})(?:\\.|_|$)\"\n",
    "# RefSeq ID: https://www.ncbi.nlm.nih.gov/books/NBK21091/table/ch18.T.refseq_accession_numbers_and_mole/?report=objectonly\n",
    "pattern_refseq = r\"([CMNPRXW]{2}_\\d{6,9})\"\n",
    "# GenBank ID, 3.4.6 ACCESSION Format: https://www.ncbi.nlm.nih.gov/genbank/release/current/\n",
    "pattern_genbank = r\"([A-Z]{1,4}\\d{5,8})\"\n",
    "# found by GenBank pattern, however there are no entries retrieved through API\n",
    "exclusion_lst = [\n",
    "    \"PDHV02000066\",\n",
    "    \"PDHV02000188\",\n",
    "    \"SOZL01001066\",\n",
    "    \"SS00042983\",\n",
    "    \"SS00017057\",\n",
    "]\n",
    "\n",
    "# --- map NCBI entries to UniProt\n",
    "ncbi_ids = []\n",
    "refseq_ids = []\n",
    "for header, _ in fasta.items():\n",
    "    uniprot_match = re.search(pattern_uniprot, header)\n",
    "    refseq_match = re.search(pattern_refseq, header)\n",
    "    genbank_match = re.search(pattern_genbank, header)\n",
    "    if uniprot_match:\n",
    "        continue\n",
    "    elif refseq_match:\n",
    "        refseq_id = refseq_match[1]\n",
    "        refseq_ids.append(refseq_id)\n",
    "    elif (\n",
    "        (genbank_match is not None)\n",
    "        and (genbank_match[1] not in exclusion_lst)\n",
    "        and (\"scaffold\" not in header)\n",
    "    ):\n",
    "        ncbi_id = genbank_match[0]\n",
    "        ncbi_ids.append(ncbi_id)\n",
    "ncbi_collector.map_uniprot_acc_ids(\n",
    "    ncbi_ids=refseq_ids, from_dbs=[\"RefSeq_Nucleotide\", \"RefSeq_Protein\"]\n",
    ")\n",
    "ncbi_collector.map_uniprot_acc_ids(ncbi_ids=ncbi_ids)\n",
    "\n",
    "# --- create entries\n",
    "entries = []\n",
    "for header, seq in fasta.items():\n",
    "    seq = str(seq).replace(\"-\", \"\")\n",
    "    uniprot_match = re.search(pattern_uniprot, header)\n",
    "    refseq_match = re.search(pattern_refseq, header)\n",
    "    genbank_match = re.search(pattern_genbank, header)\n",
    "    # match in UniProt\n",
    "    if uniprot_match:\n",
    "        acc_id = uniprot_match[1]\n",
    "        data = uniprot_collector.get_entry(acc_id=acc_id)\n",
    "        species, taxon_id = uniprot_collector.parse_taxon(rec=data)\n",
    "        full_seq, mature_peptide = uniprot_collector.parse_seq(rec=data)\n",
    "    # match in NCBI nuccore or protein DB\n",
    "    elif refseq_match or (\n",
    "        (genbank_match is not None)\n",
    "        and (genbank_match[1] not in exclusion_lst)\n",
    "        and (\"scaffold\" not in header)\n",
    "    ):\n",
    "        ncbi_id = [m[1] for m in [refseq_match, genbank_match] if m is not None][0]\n",
    "        acc_id, db = ncbi_collector.get_uniprot_acc_id(gb_id=ncbi_id)\n",
    "        if acc_id is not None:\n",
    "            data = uniprot_collector.get_entry(acc_id=acc_id)\n",
    "            species, taxon_id = uniprot_collector.parse_taxon(rec=data)\n",
    "            full_seq, mature_peptide = uniprot_collector.parse_seq(rec=data)\n",
    "        if (acc_id is None) or ((acc_id is not None) and (full_seq is None)):\n",
    "            ncbi_rec = ncbi_collector.get_record(ncbi_id)\n",
    "            species, taxon_id = ncbi_collector.parse_taxon(rec=ncbi_rec)\n",
    "            full_seq = ncbi_collector.parse_seq(rec=ncbi_rec)\n",
    "            mature_peptide = None\n",
    "    else:\n",
    "        # BLASTp sequences\n",
    "        taxa_abb = list(set(header.split(\"_\")) & set(taxon_mapper.keys()))[0]\n",
    "        species = taxon_mapper[taxa_abb]\n",
    "        full_seq = seq\n",
    "        acc_id, taxon_id, mature_peptide = None, None, None\n",
    "\n",
    "    entry = dict(\n",
    "        fasta_id=header,\n",
    "        acc_id=acc_id,\n",
    "        db=db,\n",
    "        full_seq=full_seq,\n",
    "        seq=mature_peptide,\n",
    "        species=species,\n",
    "        taxon_id=taxon_id,\n",
    "        data_origin=\"paper_zhang\",\n",
    "    )\n",
    "    entries.append(entry)"
   ]
  },
  {
   "cell_type": "code",
   "execution_count": 257,
   "metadata": {},
   "outputs": [
    {
     "data": {
      "text/html": [
       "<div>\n",
       "<style scoped>\n",
       "    .dataframe tbody tr th:only-of-type {\n",
       "        vertical-align: middle;\n",
       "    }\n",
       "\n",
       "    .dataframe tbody tr th {\n",
       "        vertical-align: top;\n",
       "    }\n",
       "\n",
       "    .dataframe thead th {\n",
       "        text-align: right;\n",
       "    }\n",
       "</style>\n",
       "<table border=\"1\" class=\"dataframe\">\n",
       "  <thead>\n",
       "    <tr style=\"text-align: right;\">\n",
       "      <th></th>\n",
       "      <th>fasta_id</th>\n",
       "      <th>acc_id</th>\n",
       "      <th>db</th>\n",
       "      <th>full_seq</th>\n",
       "      <th>seq</th>\n",
       "      <th>species</th>\n",
       "      <th>taxon_id</th>\n",
       "      <th>data_origin</th>\n",
       "    </tr>\n",
       "  </thead>\n",
       "  <tbody>\n",
       "    <tr>\n",
       "      <th>2</th>\n",
       "      <td>Cvir_PDHV02000066_1_88429_90401</td>\n",
       "      <td>None</td>\n",
       "      <td>None</td>\n",
       "      <td>MKTLLLTLMVVAFMYLDSGYTLRCRSCIGLCCDDVKNCAEGQKYCY...</td>\n",
       "      <td>None</td>\n",
       "      <td>Crotalus viridis</td>\n",
       "      <td>None</td>\n",
       "      <td>paper_zhang</td>\n",
       "    </tr>\n",
       "    <tr>\n",
       "      <th>3</th>\n",
       "      <td>Cvir_PDHV02000188_1_35190_37247_mka</td>\n",
       "      <td>None</td>\n",
       "      <td>None</td>\n",
       "      <td>MKALLFALLLLAFVCEDPVTSLECYVLSDWKIKCFRGEKYCYNVKF...</td>\n",
       "      <td>None</td>\n",
       "      <td>Crotalus viridis</td>\n",
       "      <td>None</td>\n",
       "      <td>paper_zhang</td>\n",
       "    </tr>\n",
       "    <tr>\n",
       "      <th>4</th>\n",
       "      <td>Dacu_scaffold1201_gene_1_mRNA_1_mka</td>\n",
       "      <td>None</td>\n",
       "      <td>None</td>\n",
       "      <td>MKALLFALLLVAFMCKDPVMSLQCYTCGEFFCNVKLPCSKEEKFCY...</td>\n",
       "      <td>None</td>\n",
       "      <td>Deinagkistrodon acutus</td>\n",
       "      <td>None</td>\n",
       "      <td>paper_zhang</td>\n",
       "    </tr>\n",
       "    <tr>\n",
       "      <th>5</th>\n",
       "      <td>Dacu_scaffold1201_gene_1_mRNA_2_mka</td>\n",
       "      <td>None</td>\n",
       "      <td>None</td>\n",
       "      <td>MKALLFALLLVAFMCKDPVTSLTCYTCGGSYCEWKVRCMKEEKLCY...</td>\n",
       "      <td>None</td>\n",
       "      <td>Deinagkistrodon acutus</td>\n",
       "      <td>None</td>\n",
       "      <td>paper_zhang</td>\n",
       "    </tr>\n",
       "    <tr>\n",
       "      <th>6</th>\n",
       "      <td>Dacu_scaffold1201_gene_1_mRNA_3_mka</td>\n",
       "      <td>None</td>\n",
       "      <td>None</td>\n",
       "      <td>MKALLFALLVVAFTCEDTVAGLECLRCYGACKEEICLEDNPVCYTL...</td>\n",
       "      <td>None</td>\n",
       "      <td>Deinagkistrodon acutus</td>\n",
       "      <td>None</td>\n",
       "      <td>paper_zhang</td>\n",
       "    </tr>\n",
       "    <tr>\n",
       "      <th>...</th>\n",
       "      <td>...</td>\n",
       "      <td>...</td>\n",
       "      <td>...</td>\n",
       "      <td>...</td>\n",
       "      <td>...</td>\n",
       "      <td>...</td>\n",
       "      <td>...</td>\n",
       "      <td>...</td>\n",
       "    </tr>\n",
       "    <tr>\n",
       "      <th>990</th>\n",
       "      <td>VERAN_GAHJ01000009.1_37_252</td>\n",
       "      <td>R4FKG3</td>\n",
       "      <td>TR</td>\n",
       "      <td>MKTLLLTLVVVTIVCLDLGDSLICYVGYNIPQICPTGEVVCFTKTW...</td>\n",
       "      <td>LICYVGYNIPQICPTGEVVCFTKTWCDAHCGERGKRVELGCAATCP...</td>\n",
       "      <td>Vermicella annulata</td>\n",
       "      <td>1295044</td>\n",
       "      <td>paper_zhang</td>\n",
       "    </tr>\n",
       "    <tr>\n",
       "      <th>991</th>\n",
       "      <td>VERAN_GAHJ01000013.1_37_249</td>\n",
       "      <td>R4FIZ2</td>\n",
       "      <td>TR</td>\n",
       "      <td>MKTLLLTLVVVTIVCLDLGYTMTCYNQQSSEDQTTTTCPGGVSSCY...</td>\n",
       "      <td>MTCYNQQSSEDQTTTTCPGGVSSCYKKTWRDHRGTIIERGCGCPDV...</td>\n",
       "      <td>Vermicella annulata</td>\n",
       "      <td>1295044</td>\n",
       "      <td>paper_zhang</td>\n",
       "    </tr>\n",
       "    <tr>\n",
       "      <th>992</th>\n",
       "      <td>VIPTR_OL439441.1_1_264</td>\n",
       "      <td>None</td>\n",
       "      <td>None</td>\n",
       "      <td>MKTLLLILGVVAFVYLDSGYSLTCASCPSVKCMVTPNVQCTEGSNQ...</td>\n",
       "      <td>None</td>\n",
       "      <td>Vipera transcaucasiana</td>\n",
       "      <td>235552</td>\n",
       "      <td>paper_zhang</td>\n",
       "    </tr>\n",
       "    <tr>\n",
       "      <th>993</th>\n",
       "      <td>WALAE_EU196556.1_1_246</td>\n",
       "      <td>C1IC48</td>\n",
       "      <td>SP</td>\n",
       "      <td>MKTLLLTLVVVTIVCLDLGHTLLCHNQQSSTSPTTTCCSGGESKCY...</td>\n",
       "      <td>LLCHNQQSSTSPTTTCCSGGESKCYKKRWPTHRGTITERGCGCPTV...</td>\n",
       "      <td>Walterinnesia aegyptia</td>\n",
       "      <td>64182</td>\n",
       "      <td>paper_zhang</td>\n",
       "    </tr>\n",
       "    <tr>\n",
       "      <th>994</th>\n",
       "      <td>WALAE_EU196555.1_1_246</td>\n",
       "      <td>C1IC47</td>\n",
       "      <td>SP</td>\n",
       "      <td>MKTLLLTLVVVTIVCLDLGHTFVCHNQQSSQPPTTTNCSGGENKCY...</td>\n",
       "      <td>FVCHNQQSSQPPTTTNCSGGENKCYKKQWSDHRGSITERGCGCPTV...</td>\n",
       "      <td>Walterinnesia aegyptia</td>\n",
       "      <td>64182</td>\n",
       "      <td>paper_zhang</td>\n",
       "    </tr>\n",
       "  </tbody>\n",
       "</table>\n",
       "<p>669 rows × 8 columns</p>\n",
       "</div>"
      ],
      "text/plain": [
       "                                fasta_id  acc_id    db  \\\n",
       "2        Cvir_PDHV02000066_1_88429_90401    None  None   \n",
       "3    Cvir_PDHV02000188_1_35190_37247_mka    None  None   \n",
       "4    Dacu_scaffold1201_gene_1_mRNA_1_mka    None  None   \n",
       "5    Dacu_scaffold1201_gene_1_mRNA_2_mka    None  None   \n",
       "6    Dacu_scaffold1201_gene_1_mRNA_3_mka    None  None   \n",
       "..                                   ...     ...   ...   \n",
       "990          VERAN_GAHJ01000009.1_37_252  R4FKG3    TR   \n",
       "991          VERAN_GAHJ01000013.1_37_249  R4FIZ2    TR   \n",
       "992               VIPTR_OL439441.1_1_264    None  None   \n",
       "993               WALAE_EU196556.1_1_246  C1IC48    SP   \n",
       "994               WALAE_EU196555.1_1_246  C1IC47    SP   \n",
       "\n",
       "                                              full_seq  \\\n",
       "2    MKTLLLTLMVVAFMYLDSGYTLRCRSCIGLCCDDVKNCAEGQKYCY...   \n",
       "3    MKALLFALLLLAFVCEDPVTSLECYVLSDWKIKCFRGEKYCYNVKF...   \n",
       "4    MKALLFALLLVAFMCKDPVMSLQCYTCGEFFCNVKLPCSKEEKFCY...   \n",
       "5    MKALLFALLLVAFMCKDPVTSLTCYTCGGSYCEWKVRCMKEEKLCY...   \n",
       "6    MKALLFALLVVAFTCEDTVAGLECLRCYGACKEEICLEDNPVCYTL...   \n",
       "..                                                 ...   \n",
       "990  MKTLLLTLVVVTIVCLDLGDSLICYVGYNIPQICPTGEVVCFTKTW...   \n",
       "991  MKTLLLTLVVVTIVCLDLGYTMTCYNQQSSEDQTTTTCPGGVSSCY...   \n",
       "992  MKTLLLILGVVAFVYLDSGYSLTCASCPSVKCMVTPNVQCTEGSNQ...   \n",
       "993  MKTLLLTLVVVTIVCLDLGHTLLCHNQQSSTSPTTTCCSGGESKCY...   \n",
       "994  MKTLLLTLVVVTIVCLDLGHTFVCHNQQSSQPPTTTNCSGGENKCY...   \n",
       "\n",
       "                                                   seq  \\\n",
       "2                                                 None   \n",
       "3                                                 None   \n",
       "4                                                 None   \n",
       "5                                                 None   \n",
       "6                                                 None   \n",
       "..                                                 ...   \n",
       "990  LICYVGYNIPQICPTGEVVCFTKTWCDAHCGERGKRVELGCAATCP...   \n",
       "991  MTCYNQQSSEDQTTTTCPGGVSSCYKKTWRDHRGTIIERGCGCPDV...   \n",
       "992                                               None   \n",
       "993  LLCHNQQSSTSPTTTCCSGGESKCYKKRWPTHRGTITERGCGCPTV...   \n",
       "994  FVCHNQQSSQPPTTTNCSGGENKCYKKQWSDHRGSITERGCGCPTV...   \n",
       "\n",
       "                    species taxon_id  data_origin  \n",
       "2          Crotalus viridis     None  paper_zhang  \n",
       "3          Crotalus viridis     None  paper_zhang  \n",
       "4    Deinagkistrodon acutus     None  paper_zhang  \n",
       "5    Deinagkistrodon acutus     None  paper_zhang  \n",
       "6    Deinagkistrodon acutus     None  paper_zhang  \n",
       "..                      ...      ...          ...  \n",
       "990     Vermicella annulata  1295044  paper_zhang  \n",
       "991     Vermicella annulata  1295044  paper_zhang  \n",
       "992  Vipera transcaucasiana   235552  paper_zhang  \n",
       "993  Walterinnesia aegyptia    64182  paper_zhang  \n",
       "994  Walterinnesia aegyptia    64182  paper_zhang  \n",
       "\n",
       "[669 rows x 8 columns]"
      ]
     },
     "execution_count": 257,
     "metadata": {},
     "output_type": "execute_result"
    }
   ],
   "source": [
    "import pandas as pd\n",
    "\n",
    "df = pd.DataFrame(entries)\n",
    "df = df.dropna(subset=[\"seq\", \"full_seq\"], how=\"all\")\n",
    "df"
   ]
  },
  {
   "cell_type": "code",
   "execution_count": 245,
   "metadata": {},
   "outputs": [
    {
     "data": {
      "text/plain": [
       "(334, 8)"
      ]
     },
     "execution_count": 245,
     "metadata": {},
     "output_type": "execute_result"
    }
   ],
   "source": [
    "df[df[\"seq\"].isna() & df[\"full_seq\"].isna()].shape"
   ]
  },
  {
   "cell_type": "code",
   "execution_count": null,
   "metadata": {},
   "outputs": [],
   "source": [
    "import pandas as pd\n",
    "import dset_3FTx\n",
    "\n",
    "base = Path(\"../data\")\n",
    "helpers = base / \"helpers\"\n",
    "blast_dir = base / \"blast_out\"\n",
    "taxon_mapper_file = helpers / \"taxon_mapper.json\"\n",
    "\n",
    "df = pd.DataFrame(entries)\n",
    "df = dset_3FTx.add_taxon_id(df=df, taxon_mapper_file=taxon_mapper_file)\n",
    "df = dset_3FTx.run_blast(df, blast_dir=blast_dir)"
   ]
  },
  {
   "cell_type": "code",
   "execution_count": 8,
   "metadata": {},
   "outputs": [
    {
     "data": {
      "text/plain": [
       "435"
      ]
     },
     "execution_count": 8,
     "metadata": {},
     "output_type": "execute_result"
    }
   ],
   "source": [
    "pd.DataFrame(entries)[\"acc_id\"].isna().sum()"
   ]
  },
  {
   "cell_type": "code",
   "execution_count": 9,
   "metadata": {},
   "outputs": [
    {
     "data": {
      "text/plain": [
       "(705, 7)"
      ]
     },
     "execution_count": 9,
     "metadata": {},
     "output_type": "execute_result"
    }
   ],
   "source": [
    "df.shape"
   ]
  },
  {
   "cell_type": "code",
   "execution_count": 18,
   "metadata": {},
   "outputs": [
    {
     "data": {
      "text/plain": [
       "1    577\n",
       "Name: acc_id, dtype: int64"
      ]
     },
     "execution_count": 18,
     "metadata": {},
     "output_type": "execute_result"
    }
   ],
   "source": [
    "df[\"acc_id\"].dropna().str.split(\",\").str.len().value_counts()"
   ]
  },
  {
   "cell_type": "code",
   "execution_count": 19,
   "metadata": {},
   "outputs": [
    {
     "data": {
      "text/plain": [
       "NaN     285\n",
       "TR      236\n",
       "None    113\n",
       "SP       71\n",
       "Name: db, dtype: int64"
      ]
     },
     "execution_count": 19,
     "metadata": {},
     "output_type": "execute_result"
    }
   ],
   "source": [
    "df[\"db\"].value_counts(dropna=False)"
   ]
  },
  {
   "cell_type": "code",
   "execution_count": 65,
   "metadata": {},
   "outputs": [
    {
     "name": "stdout",
     "output_type": "stream",
     "text": [
      "Fetched: 275 / 275\n",
      "Fetched: 53 / 53\n"
     ]
    }
   ],
   "source": [
    "import idmapping\n",
    "\n",
    "missing = list(mapper.keys())\n",
    "for from_db in [\"EMBL-GenBank-DDBJ\", \"EMBL-GenBank-DDBJ_CDS\"]:\n",
    "    # get mapped IDs\n",
    "    job_id = idmapping.submit_id_mapping(\n",
    "        from_db=from_db, to_db=\"UniProtKB\", ids=missing\n",
    "    )\n",
    "    if idmapping.check_id_mapping_results_ready(job_id):\n",
    "        link = idmapping.get_id_mapping_results_link(job_id)\n",
    "        results = idmapping.get_id_mapping_results_search(link)\n",
    "    # add mapped ID\n",
    "#     seqdb2gi = {gb: gi for gi, gb in gi2seqdb.items()}\n",
    "#     for result in results[\"results\"]:\n",
    "#         gi_nr = seqdb2gi[result[\"from\"]]\n",
    "#         acc_id = result[\"to\"][\"primaryAccession\"]\n",
    "#         df_ritu.loc[df_ritu[\"gi_number\"] == gi_nr, [\"acc_id\"]] = acc_id\n",
    "#     # search missing ones in next DB\n",
    "#     missing = results[\"failedIds\"].copy()\n",
    "# print(\n",
    "#     \"No UniProt AccID found for\"\n",
    "#     f\" {len(results['failedIds'])} sequence(s)\"\n",
    "# )"
   ]
  }
 ],
 "metadata": {
  "kernelspec": {
   "display_name": "dset-3ftx-zbvyu_fa-py3.10",
   "language": "python",
   "name": "python3"
  },
  "language_info": {
   "codemirror_mode": {
    "name": "ipython",
    "version": 3
   },
   "file_extension": ".py",
   "mimetype": "text/x-python",
   "name": "python",
   "nbconvert_exporter": "python",
   "pygments_lexer": "ipython3",
   "version": "3.10.8"
  },
  "orig_nbformat": 4,
  "vscode": {
   "interpreter": {
    "hash": "f81b69f198023846c7ea0ce443045fb0d01be6197a356388c4bf1ce48e9cf6b6"
   }
  }
 },
 "nbformat": 4,
 "nbformat_minor": 2
}
