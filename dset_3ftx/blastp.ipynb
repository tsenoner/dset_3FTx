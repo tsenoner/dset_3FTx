{
 "cells": [
  {
   "cell_type": "code",
   "execution_count": 2,
   "metadata": {},
   "outputs": [
    {
     "data": {
      "text/html": [
       "\n",
       "                <script type=\"application/javascript\" id=\"jupyter_black\">\n",
       "                (function() {\n",
       "                    if (window.IPython === undefined) {\n",
       "                        return\n",
       "                    }\n",
       "                    var msg = \"WARNING: it looks like you might have loaded \" +\n",
       "                        \"jupyter_black in a non-lab notebook with \" +\n",
       "                        \"`is_lab=True`. Please double check, and if \" +\n",
       "                        \"loading with `%load_ext` please review the README!\"\n",
       "                    console.log(msg)\n",
       "                    alert(msg)\n",
       "                })()\n",
       "                </script>\n",
       "                "
      ],
      "text/plain": [
       "<IPython.core.display.HTML object>"
      ]
     },
     "metadata": {},
     "output_type": "display_data"
    }
   ],
   "source": [
    "import jupyter_black\n",
    "\n",
    "jupyter_black.load()"
   ]
  },
  {
   "cell_type": "code",
   "execution_count": 3,
   "metadata": {},
   "outputs": [],
   "source": [
    "%load_ext autoreload\n",
    "%autoreload 2"
   ]
  },
  {
   "cell_type": "code",
   "execution_count": 72,
   "metadata": {},
   "outputs": [
    {
     "name": "stdout",
     "output_type": "stream",
     "text": [
      "Original - 954 entries: 623 UniProt IDs; 1 RefSeq IDs; 47 GenBank IDs identified.\n",
      "- 127 full sequences information added by genomic supported alignment\n"
     ]
    },
    {
     "ename": "TypeError",
     "evalue": "ZhangDset.__init__() missing 1 required positional argument: 'annotation_excel_path'",
     "output_type": "error",
     "traceback": [
      "\u001b[0;31m---------------------------------------------------------------------------\u001b[0m",
      "\u001b[0;31mTypeError\u001b[0m                                 Traceback (most recent call last)",
      "Cell \u001b[0;32mIn[72], line 47\u001b[0m\n\u001b[1;32m     42\u001b[0m ncbi_collector \u001b[39m=\u001b[39m ncbi_helper\u001b[39m.\u001b[39mNcbiDataGatherer(ncbi_dir\u001b[39m=\u001b[39mncbi_dir)\n\u001b[1;32m     44\u001b[0m df_original \u001b[39m=\u001b[39m dset_3FTx\u001b[39m.\u001b[39mOriginalDset(\n\u001b[1;32m     45\u001b[0m     csv_path\u001b[39m=\u001b[39mcsv_in, fasta_path\u001b[39m=\u001b[39mfasta_in, genomic_fasta_path\u001b[39m=\u001b[39mgenomic_fasta\n\u001b[1;32m     46\u001b[0m )\u001b[39m.\u001b[39mdf\n\u001b[0;32m---> 47\u001b[0m df_zhang \u001b[39m=\u001b[39m dset_3FTx\u001b[39m.\u001b[39;49mZhangDset(\n\u001b[1;32m     48\u001b[0m     fasta_path\u001b[39m=\u001b[39;49mzhang_fasta, mature_fasta_path\u001b[39m=\u001b[39;49mzhang_sp6_fasta\n\u001b[1;32m     49\u001b[0m )\u001b[39m.\u001b[39mdf\n\u001b[1;32m     50\u001b[0m df_ritu \u001b[39m=\u001b[39m dset_3FTx\u001b[39m.\u001b[39mRituDset(csv_path\u001b[39m=\u001b[39mritu_csv)\u001b[39m.\u001b[39mdf\n\u001b[1;32m     51\u001b[0m df_french \u001b[39m=\u001b[39m dset_3FTx\u001b[39m.\u001b[39mFrenchDset(excel_path\u001b[39m=\u001b[39mfrench_excel)\u001b[39m.\u001b[39mdf\n",
      "\u001b[0;31mTypeError\u001b[0m: ZhangDset.__init__() missing 1 required positional argument: 'annotation_excel_path'"
     ]
    }
   ],
   "source": [
    "import importlib\n",
    "from pathlib import Path\n",
    "import pandas as pd\n",
    "\n",
    "import dset_3FTx\n",
    "import uniprot_helper\n",
    "import ncbi_helper\n",
    "\n",
    "# importlib.reload(dset_3FTx)\n",
    "# importlib.reload(uniprot_helper)\n",
    "\n",
    "# pd.io.clipboards.to_clipboard(df.to_markdown(), excel=False)\n",
    "\n",
    "# --- PATHS ---\n",
    "base = Path(\"../data\")\n",
    "out_dir = base / \"protspace\"\n",
    "raw = base / \"raw\"\n",
    "helpers = base / \"helpers\"\n",
    "\n",
    "csv_in = raw / \"Ivan_3FTx.csv\"\n",
    "fasta_in = raw / \"3and6_new-2.fasta\"\n",
    "genomic_fasta = raw / \"Translation of 156 sequences.fasta\"\n",
    "zhang_fasta = raw / \"BungarusMulticinctus.fasta\"\n",
    "zhang_sp6_fasta = raw / \"zhang_sp6_mature_seq.fasta\"\n",
    "zhang_annotation = raw / \"zhang_annotation.xlsx\"\n",
    "ritu_csv = raw / \"drysdalia.csv\"\n",
    "french_excel = raw / \"french_data.xls\"\n",
    "uniprot_uids_files = [raw / \"dashev_uniprot.txt\", raw / \"snake_3FTx_sp.txt\"]\n",
    "\n",
    "ncbi_dir = base / \"ncbi_entries\"\n",
    "uniprot_dir = base / \"uniprot_entries\"\n",
    "blast_dir = base / \"blast_out\"\n",
    "# nuc_dir = base / \"gi_number\"\n",
    "taxon_mapper_file = helpers / \"taxon_mapper.csv\"\n",
    "# gi2accid_file = helpers / \"gi2accid.json\"\n",
    "\n",
    "fasta_out = out_dir / \"3FTx.fasta\"\n",
    "csv_out = out_dir / \"3FTx.csv\"\n",
    "\n",
    "# --- MAIN ---\n",
    "uniprot_collector = uniprot_helper.UniProtDataGatherer(uniprot_dir=uniprot_dir)\n",
    "ncbi_collector = ncbi_helper.NcbiDataGatherer(ncbi_dir=ncbi_dir)\n",
    "\n",
    "df_original = dset_3FTx.OriginalDset(\n",
    "    csv_path=csv_in, fasta_path=fasta_in, genomic_fasta_path=genomic_fasta\n",
    ").df\n",
    "df_zhang = dset_3FTx.ZhangDset(\n",
    "    fasta_path=zhang_fasta, mature_fasta_path=zhang_sp6_fasta\n",
    ").df\n",
    "df_ritu = dset_3FTx.RituDset(csv_path=ritu_csv).df\n",
    "df_french = dset_3FTx.FrenchDset(excel_path=french_excel).df\n",
    "df_uniprot = dset_3FTx.parse_uniprot_ids_file(uniprot_uids_files=uniprot_uids_files)\n",
    "df = pd.concat(\n",
    "    [df_original, df_french, df_zhang, df_ritu, df_uniprot], ignore_index=True\n",
    ")\n",
    "df = dset_3FTx.map_ids2uniprot(df=df)\n",
    "# 28 of original mature_seq have missing ends or no UniProt entry\n",
    "df = dset_3FTx.get_uniprot_metadata(df=df)\n",
    "df = dset_3FTx.get_ncbi_metadata(df=df)\n",
    "df = df.dropna(subset=\"species\")\n",
    "df = dset_3FTx.add_taxon_id(df=df, taxon_mapper_file=taxon_mapper_file)\n",
    "# TODO: run BLASTp to find UniProt entries\n",
    "#       ignore entries that do already have an acession number\n",
    "# df = dset_3FTx.run_blast(\n",
    "#     df=df, blast_dir=blast_dir, uniprot_collector=uniprot_collector\n",
    "# )\n",
    "# df = dset_3FTx.get_uniprot_metadata(df=df)\n",
    "df = dset_3FTx.remove_low_quality_entries(df=df)\n",
    "df = dset_3FTx.manual_curation(df=df)\n",
    "dset_3FTx.save_data(df=df, csv_file=csv_out, fasta_file=fasta_out)"
   ]
  },
  {
   "cell_type": "code",
   "execution_count": null,
   "metadata": {},
   "outputs": [],
   "source": []
  },
  {
   "cell_type": "code",
   "execution_count": 61,
   "metadata": {},
   "outputs": [],
   "source": [
    "df_annot = pd.read_excel(zhang_annotation, header=1)\n",
    "df_annot = df_annot.rename(\n",
    "    columns={\n",
    "        \"Transcript ID\": \"fasta_id\",\n",
    "        \"Toxin family\": \"major_group\",\n",
    "        \"Subfamily\": \"zhang_subfamily\",\n",
    "        \"Toxin type\": \"zhang_toxinType\",\n",
    "        \"Conformation\": \"zhang_conformation\",\n",
    "    }\n",
    ")\n",
    "df_annot = df_annot[df_annot[\"major_group\"] == \"3FTX\"]\n",
    "df_annot[\"fasta_id\"] = (\n",
    "    df_annot[\"fasta_id\"]\n",
    "    .str.replace(pat=r\"B.multicinctus_HiC\", repl=\"Bmul\", regex=True)\n",
    "    .str.replace(\".\", \"_\", regex=True)\n",
    ")\n",
    "cols2keep = [\n",
    "    \"fasta_id\",\n",
    "    \"major_group\",\n",
    "    \"zhang_subfamily\",\n",
    "    \"zhang_toxinType\",\n",
    "    \"zhang_conformation\",\n",
    "]\n",
    "df_annot = df_annot[cols2keep]\n",
    "df_annot.loc[\n",
    "    df_annot[\"zhang_subfamily\"].str.startswith(\"Uncharacterized\"), \"zhang_subfamily\"\n",
    "] = None\n",
    "df_annot = df_annot.replace(\"unknown\", None)"
   ]
  },
  {
   "cell_type": "code",
   "execution_count": 71,
   "metadata": {},
   "outputs": [
    {
     "data": {
      "text/html": [
       "<div>\n",
       "<style scoped>\n",
       "    .dataframe tbody tr th:only-of-type {\n",
       "        vertical-align: middle;\n",
       "    }\n",
       "\n",
       "    .dataframe tbody tr th {\n",
       "        vertical-align: top;\n",
       "    }\n",
       "\n",
       "    .dataframe thead th {\n",
       "        text-align: right;\n",
       "    }\n",
       "</style>\n",
       "<table border=\"1\" class=\"dataframe\">\n",
       "  <thead>\n",
       "    <tr style=\"text-align: right;\">\n",
       "      <th></th>\n",
       "      <th>fasta_id</th>\n",
       "      <th>major_group</th>\n",
       "      <th>zhang_subfamily</th>\n",
       "      <th>zhang_toxinType</th>\n",
       "      <th>zhang_conformation</th>\n",
       "    </tr>\n",
       "  </thead>\n",
       "  <tbody>\n",
       "    <tr>\n",
       "      <th>0</th>\n",
       "      <td>Bmul_scaffold7_G00718_t1</td>\n",
       "      <td>3FTX</td>\n",
       "      <td>Aminergic</td>\n",
       "      <td>cardiotoxin</td>\n",
       "      <td>short chain</td>\n",
       "    </tr>\n",
       "    <tr>\n",
       "      <th>1</th>\n",
       "      <td>Bmul_scaffold142_G00001_t1</td>\n",
       "      <td>3FTX</td>\n",
       "      <td>IIalpha</td>\n",
       "      <td>neurotoxin</td>\n",
       "      <td>long chain</td>\n",
       "    </tr>\n",
       "  </tbody>\n",
       "</table>\n",
       "</div>"
      ],
      "text/plain": [
       "                     fasta_id major_group zhang_subfamily zhang_toxinType  \\\n",
       "0    Bmul_scaffold7_G00718_t1        3FTX       Aminergic     cardiotoxin   \n",
       "1  Bmul_scaffold142_G00001_t1        3FTX         IIalpha      neurotoxin   \n",
       "\n",
       "  zhang_conformation  \n",
       "0        short chain  \n",
       "1         long chain  "
      ]
     },
     "execution_count": 71,
     "metadata": {},
     "output_type": "execute_result"
    }
   ],
   "source": [
    "df_annot.head(2)"
   ]
  },
  {
   "cell_type": "code",
   "execution_count": 70,
   "metadata": {},
   "outputs": [
    {
     "data": {
      "text/plain": [
       "((970, 12), (970, 8))"
      ]
     },
     "execution_count": 70,
     "metadata": {},
     "output_type": "execute_result"
    }
   ],
   "source": [
    "df_zhang.join(df_annot.set_index(\"fasta_id\"), on=\"fasta_id\").shape, df_zhang.shape"
   ]
  },
  {
   "cell_type": "code",
   "execution_count": 36,
   "metadata": {},
   "outputs": [
    {
     "data": {
      "text/plain": [
       "True"
      ]
     },
     "execution_count": 36,
     "metadata": {},
     "output_type": "execute_result"
    }
   ],
   "source": [
    "\"A0A7T7DMY7\" in df[\"uniprot_id\"].to_list()"
   ]
  },
  {
   "cell_type": "code",
   "execution_count": 4,
   "metadata": {},
   "outputs": [
    {
     "data": {
      "text/plain": [
       "original          954\n",
       "paper_zhang       555\n",
       "paper_ritu         27\n",
       "snake_3FTx_sp      25\n",
       "dashev_uniprot     23\n",
       "Name: data_origin, dtype: int64"
      ]
     },
     "execution_count": 4,
     "metadata": {},
     "output_type": "execute_result"
    }
   ],
   "source": [
    "df[\"data_origin\"].value_counts()"
   ]
  },
  {
   "cell_type": "markdown",
   "metadata": {},
   "source": [
    "DB|ID(uniprot, ncbi, genomic_name, original_fasta)|species name"
   ]
  },
  {
   "cell_type": "code",
   "execution_count": 22,
   "metadata": {},
   "outputs": [],
   "source": [
    "\n",
    "# df.loc[\n",
    "#     pd.isna(a) & (df[\"data_origin\"] == \"original\"), :  # \"data_origin\"\n",
    "# ]  # .value_counts()"
   ]
  },
  {
   "cell_type": "code",
   "execution_count": 28,
   "metadata": {},
   "outputs": [],
   "source": [
    "identifier = (\n",
    "    df[\"uniprot_id\"]\n",
    "    .fillna(df[\"genbank_id\"])\n",
    "    .fillna(df[\"refseq_id\"])\n",
    "    .fillna(df[\"genomic_id\"])\n",
    "    .fillna(df[\"fasta_id\"])\n",
    ")\n",
    "\n",
    "col_id_vals = df[\"db\"].astype(str) + \"|\" + identifier + \"|\" + df[\"species\"]\n",
    "df.insert(loc=0, column=\"id\", value=col_id_vals)"
   ]
  },
  {
   "cell_type": "code",
   "execution_count": 29,
   "metadata": {},
   "outputs": [],
   "source": [
    "df.to_csv(\"../data/protspace/3FTx.csv\", index=False)"
   ]
  }
 ],
 "metadata": {
  "kernelspec": {
   "display_name": "dset-3ftx-zbvyu_fa-py3.10",
   "language": "python",
   "name": "python3"
  },
  "language_info": {
   "codemirror_mode": {
    "name": "ipython",
    "version": 3
   },
   "file_extension": ".py",
   "mimetype": "text/x-python",
   "name": "python",
   "nbconvert_exporter": "python",
   "pygments_lexer": "ipython3",
   "version": "3.10.8"
  },
  "orig_nbformat": 4,
  "vscode": {
   "interpreter": {
    "hash": "f81b69f198023846c7ea0ce443045fb0d01be6197a356388c4bf1ce48e9cf6b6"
   }
  }
 },
 "nbformat": 4,
 "nbformat_minor": 2
}
